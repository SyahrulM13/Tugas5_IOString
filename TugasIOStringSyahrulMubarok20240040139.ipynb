{
 "cells": [
  {
   "cell_type": "markdown",
   "id": "00c28f79-5868-4f04-8439-9256211e9a19",
   "metadata": {},
   "source": [
    "<h1>1. Buatlah biodata sederhana dengan menggunakan fungsi input(), dan\n",
    "output variabel dengan fungsi format().</h1>"
   ]
  },
  {
   "cell_type": "code",
   "execution_count": 233,
   "id": "c0348000-e153-40dd-8761-5615cc89a69d",
   "metadata": {},
   "outputs": [
    {
     "name": "stdin",
     "output_type": "stream",
     "text": [
      "Isikan Nama Lengkap : Syahrul Mubarok\n",
      "Isikan Tempat Tanggal Lahir : Sukabumi, 13 Oktober 2005\n",
      "Isikan Jenis Kelamin : Laki laki\n",
      "Isikan Alamat : Jl. Pelabuhan Ratu Kab.Sukabumi Kec.Warungkiara\n",
      "Isikan No Telepon : 085723854908\n",
      "Isikan Email : arulsyahrul30@gmail.com\n",
      "Isikan Status : Belum Menikah\n"
     ]
    },
    {
     "name": "stdout",
     "output_type": "stream",
     "text": [
      "\n",
      " --- Biodata Diri ---\n",
      "Nama Lengkap : Syahrul Mubarok\n",
      "Tempat Tanggal Lahir : Sukabumi, 13 Oktober 2005\n",
      "Jenis Kelamin : Laki laki.\n",
      "Alamat : Jl. Pelabuhan Ratu Kab.Sukabumi Kec.Warungkiara\n",
      "No Telepon : 085723854908\n",
      "Email : arulsyahrul30@gmail.com\n",
      "Status : Belum Menikah\n"
     ]
    }
   ],
   "source": [
    "namaL = input(\"Isikan Nama Lengkap :\")\n",
    "TTL = input(\"Isikan Tempat Tanggal Lahir :\")\n",
    "jk = input(\"Isikan Jenis Kelamin :\")\n",
    "alamat = input(\"Isikan Alamat :\")\n",
    "notel = input(\"Isikan No Telepon :\")\n",
    "email = input(\"Isikan Email :\")\n",
    "status = input(\"Isikan Status :\")\n",
    "\n",
    "print(\"\\n --- Biodata Diri ---\")\n",
    "print(\"Nama Lengkap : {}\".format(namaL))\n",
    "print(\"Tempat Tanggal Lahir : {}\".format(TTL))\n",
    "print(\"Jenis Kelamin : {}.\".format(jk))\n",
    "print(\"Alamat : {}\".format(alamat))\n",
    "print(\"No Telepon : {}\".format(notel))\n",
    "print(\"Email : {}\".format(email))\n",
    "print(\"Status : {}\".format(status))"
   ]
  },
  {
   "cell_type": "markdown",
   "id": "8e36983a-6aef-459a-a9da-f2774004233e",
   "metadata": {},
   "source": [
    "<h1>2. Jika terdapat kalimat UNIVERSITAS NUSA PUTRA SUKABUMI ,buatlah\n",
    "kode program untuk menampilkan output:\n",
    "a. putra nusa\n",
    "b. NIVERSITAS NSA PTRA SKABMI\n",
    "c. SUKABUMI PUTRA NUSA UNIVERSITAS\n",
    "d. UNPS\n",
    "e. TAS SAPU BUMI</h1>"
   ]
  },
  {
   "cell_type": "code",
   "execution_count": 231,
   "id": "12888a10-5917-4c96-972f-908b9fd942f6",
   "metadata": {
    "scrolled": true
   },
   "outputs": [
    {
     "name": "stdin",
     "output_type": "stream",
     "text": [
      "Masukan kalimat : UNIVERSITAS NUSA PUTRA SUKABUMI\n"
     ]
    },
    {
     "name": "stdout",
     "output_type": "stream",
     "text": [
      "\n",
      " a.PUTRA NUSA\n",
      "\n",
      " b.NIVERSITAS NSA PTRA SKABMI\n",
      "\n",
      " c.SUKABUMI PUTRA NUSA UNIVERSITAS\n",
      "\n",
      " d.UNPS\n",
      "\n",
      " e.TAS SAPU BUMI\n"
     ]
    }
   ],
   "source": [
    "kalimat = input(\"Masukan kalimat :\")\n",
    "#a. putra nusa\n",
    "print(\"\\n a.\", end = '')\n",
    "print(kalimat [17:22], end = ' ')#PUTRA\n",
    "print(kalimat [12:16])#NUSA\n",
    "#b. NIVERSITAS NSA PTRA SKABMI\n",
    "print(\"\\n b.\", end = '')\n",
    "print(kalimat [1:11], end = ' ')#NIVERSITAS\n",
    "print(kalimat [12], end = '')#N\n",
    "print(kalimat [14:16], end = ' ')#SA\n",
    "print(kalimat [17], end = '')#P\n",
    "print(kalimat [19:-9], end = ' ')#TRA\n",
    "print(kalimat [23], end = '')#S\n",
    "print(kalimat [25:28], end = '')#KAB\n",
    "print(kalimat [29:])#MI\n",
    "#c. SUKABUMI PUTRA NUSA UNIVERSITAS\n",
    "print(\"\\n c.\", end = '')\n",
    "print(kalimat [23:], end = ' ')#SUKABUMI\n",
    "print(kalimat [17:22], end = ' ')#PUTRA\n",
    "print(kalimat [12:16], end = ' ')#NUSA\n",
    "print(kalimat [0:11])#UNIVERSITAS\n",
    "#d. UNPS\n",
    "print(\"\\n d.\", end = '')\n",
    "print(kalimat [0], end = '')#U\n",
    "print(kalimat [12], end = '')#N\n",
    "print(kalimat [17], end = '')#P\n",
    "print(kalimat [23])#S\n",
    "print(\"\\n e.\", end = '')\n",
    "print(kalimat [8:11], end = ' ')#TAS\n",
    "print(kalimat [14:16], end = '')#SA\n",
    "print(kalimat [17:19], end = ' ')#PU\n",
    "print(kalimat [27:])#BUMI"
   ]
  },
  {
   "cell_type": "code",
   "execution_count": null,
   "id": "1329167d-6966-4ae2-bede-28abcc4fa7c2",
   "metadata": {},
   "outputs": [],
   "source": []
  }
 ],
 "metadata": {
  "kernelspec": {
   "display_name": "Python [conda env:base] *",
   "language": "python",
   "name": "conda-base-py"
  },
  "language_info": {
   "codemirror_mode": {
    "name": "ipython",
    "version": 3
   },
   "file_extension": ".py",
   "mimetype": "text/x-python",
   "name": "python",
   "nbconvert_exporter": "python",
   "pygments_lexer": "ipython3",
   "version": "3.12.7"
  }
 },
 "nbformat": 4,
 "nbformat_minor": 5
}
